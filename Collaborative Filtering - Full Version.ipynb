{
 "cells": [
  {
   "cell_type": "markdown",
   "metadata": {},
   "source": [
    "# Collaborative Filtering"
   ]
  },
  {
   "cell_type": "code",
   "execution_count": 1,
   "metadata": {},
   "outputs": [],
   "source": [
    "# Import libraries\n",
    "%matplotlib inline\n",
    "import math\n",
    "import numpy as np\n",
    "import pandas as pd\n",
    "import matplotlib.pyplot as plt\n",
    "\n",
    "small_data = pd.read_csv('../ml-20m/ratings.csv', sep=',', encoding='latin-1', nrows=15000, \n",
    "                      usecols=['userId', 'movieId','rating'])\n",
    "\n",
    "# Fill NaN values in user_id and movie_id column with 0\n",
    "small_data['userId'] = small_data['userId'].fillna(0)\n",
    "small_data['movieId'] = small_data['movieId'].fillna(0)\n",
    "\n",
    "# Replace NaN values in rating column with average of all values\n",
    "small_data['rating'] = small_data['rating'].fillna(small_data['rating'].mean())"
   ]
  },
  {
   "cell_type": "code",
   "execution_count": 2,
   "metadata": {},
   "outputs": [],
   "source": [
    "from sklearn import model_selection\n",
    "train_data, test_data = model_selection.train_test_split(small_data, test_size=0.5, shuffle=False)"
   ]
  },
  {
   "cell_type": "code",
   "execution_count": 3,
   "metadata": {},
   "outputs": [
    {
     "name": "stdout",
     "output_type": "stream",
     "text": [
      "(7500, 3)\n",
      "(7500, 3)\n"
     ]
    }
   ],
   "source": [
    "# Create two user-item matrices, one for training and another for testing\n",
    "train_data_matrix = train_data.to_numpy(dtype=np.float, copy=True)\n",
    "test_data_matrix = test_data.to_numpy(dtype=np.float,copy=True)\n",
    "\n",
    "# Check their shape\n",
    "print(train_data_matrix.shape)\n",
    "print(test_data_matrix.shape)"
   ]
  },
  {
   "cell_type": "code",
   "execution_count": 4,
   "metadata": {},
   "outputs": [
    {
     "data": {
      "text/html": [
       "<div>\n",
       "<style scoped>\n",
       "    .dataframe tbody tr th:only-of-type {\n",
       "        vertical-align: middle;\n",
       "    }\n",
       "\n",
       "    .dataframe tbody tr th {\n",
       "        vertical-align: top;\n",
       "    }\n",
       "\n",
       "    .dataframe thead th {\n",
       "        text-align: right;\n",
       "    }\n",
       "</style>\n",
       "<table border=\"1\" class=\"dataframe\">\n",
       "  <thead>\n",
       "    <tr style=\"text-align: right;\">\n",
       "      <th></th>\n",
       "      <th>userId</th>\n",
       "      <th>movieId</th>\n",
       "      <th>rating</th>\n",
       "    </tr>\n",
       "  </thead>\n",
       "  <tbody>\n",
       "    <tr>\n",
       "      <th>0</th>\n",
       "      <td>1</td>\n",
       "      <td>2</td>\n",
       "      <td>3.5</td>\n",
       "    </tr>\n",
       "    <tr>\n",
       "      <th>1</th>\n",
       "      <td>1</td>\n",
       "      <td>29</td>\n",
       "      <td>3.5</td>\n",
       "    </tr>\n",
       "    <tr>\n",
       "      <th>2</th>\n",
       "      <td>1</td>\n",
       "      <td>32</td>\n",
       "      <td>3.5</td>\n",
       "    </tr>\n",
       "    <tr>\n",
       "      <th>3</th>\n",
       "      <td>1</td>\n",
       "      <td>47</td>\n",
       "      <td>3.5</td>\n",
       "    </tr>\n",
       "    <tr>\n",
       "      <th>4</th>\n",
       "      <td>1</td>\n",
       "      <td>50</td>\n",
       "      <td>3.5</td>\n",
       "    </tr>\n",
       "  </tbody>\n",
       "</table>\n",
       "</div>"
      ],
      "text/plain": [
       "   userId  movieId  rating\n",
       "0       1        2     3.5\n",
       "1       1       29     3.5\n",
       "2       1       32     3.5\n",
       "3       1       47     3.5\n",
       "4       1       50     3.5"
      ]
     },
     "execution_count": 4,
     "metadata": {},
     "output_type": "execute_result"
    }
   ],
   "source": [
    "from sklearn.metrics.pairwise import pairwise_distances\n",
    "\n",
    "# User Similarity Matrix\n",
    "parwise_user = pairwise_distances(train_data, metric='correlation')\n",
    "user_correlation = 1 - parwise_user\n",
    "user_correlation[np.isnan(user_correlation)] = 0\n",
    "\n",
    "# Item Similarity Matrix\n",
    "# item_correlation = 1 - pairwise_distances(train_data_matrix.T, metric='correlation')\n",
    "# item_correlation[np.isnan(item_correlation)] = 0\n",
    "\n",
    "train_data.head()"
   ]
  },
  {
   "cell_type": "code",
   "execution_count": 5,
   "metadata": {},
   "outputs": [],
   "source": [
    "def predict(ratings, similarity, type='user'):\n",
    "    \n",
    "    if type == 'user':\n",
    "        print(ratings)\n",
    "        mean_user_rating = ratings.mean(axis=1)\n",
    "        ratings_diff = (ratings - mean_user_rating[:, np.newaxis])\n",
    "        pred = mean_user_rating[:, np.newaxis] + similarity.dot(ratings_diff) / np.array([np.abs(similarity).sum(axis=1)]).T\n",
    "    elif type == 'item':\n",
    "        pred = ratings.dot(similarity) / np.array([np.abs(similarity).sum(axis=1)])\n",
    "    return pred"
   ]
  },
  {
   "cell_type": "code",
   "execution_count": 6,
   "metadata": {},
   "outputs": [
    {
     "name": "stdout",
     "output_type": "stream",
     "text": [
      "[[1.000e+00 2.000e+00 3.500e+00]\n",
      " [1.000e+00 2.900e+01 3.500e+00]\n",
      " [1.000e+00 3.200e+01 3.500e+00]\n",
      " ...\n",
      " [6.600e+01 7.450e+02 5.000e+00]\n",
      " [6.600e+01 1.148e+03 5.000e+00]\n",
      " [6.600e+01 1.175e+03 5.000e+00]]\n",
      "prediction: [[ 1348.03511016 -2721.99344455  1380.4583344 ]\n",
      " [-2019.74241051  4102.49967923 -2049.25726872]\n",
      " [-2018.18310743  4102.39163936 -2047.70853193]\n",
      " ...\n",
      " [-1747.61021736  4340.92495043 -1777.31473306]\n",
      " [-1615.35559439  4479.38482345 -1645.02922906]\n",
      " [-1606.44153836  4488.55540886 -1636.1138705 ]]\n"
     ]
    }
   ],
   "source": [
    "from sklearn.metrics import mean_squared_error\n",
    "from math import sqrt\n",
    "\n",
    "def rmse(pred, actual):\n",
    "    pred = pred[actual.nonzero()].flatten()\n",
    "    actual = actual[actual.nonzero()].flatten()\n",
    "    return sqrt(mean_squared_error(pred, actual))\n",
    "\n",
    "user_prediction = predict(train_data_matrix, user_correlation, type='user')\n",
    "# item_prediction = predict(train_data_matrix, item_correlation, type='item')\n",
    "\n",
    "print(\"prediction:\", user_prediction)"
   ]
  },
  {
   "cell_type": "code",
   "execution_count": 7,
   "metadata": {},
   "outputs": [
    {
     "name": "stdout",
     "output_type": "stream",
     "text": [
      "User-based CF RMSE - Test Data: 11676.570087134485\n"
     ]
    }
   ],
   "source": [
    "# print('User-based CF RMSE: ' + str(rmse(user_prediction, train_data_matrix)))\n",
    "# print('Item-based CF RMSE: ' + str(rmse(item_prediction, train_data_matrix)))\n",
    "\n",
    "print('User-based CF RMSE - Test Data: ' + str(rmse(user_prediction, test_data_matrix)))\n",
    "# print('Item-based CF RMSE - Test Data: ' + str(rmse(item_prediction, test_data_matrix)))"
   ]
  },
  {
   "cell_type": "markdown",
   "metadata": {},
   "source": [
    "User-based CF RMSE - Test Data: 15596.083426390725\n",
    "Item-based CF RMSE - Test Data: 18101.866866058295"
   ]
  },
  {
   "cell_type": "markdown",
   "metadata": {},
   "source": [
    "User-based CF RMSE - Test Data: 11849.808978496218\n",
    "Item-based CF RMSE - Test Data: 13381.23167982257"
   ]
  }
 ],
 "metadata": {
  "kernelspec": {
   "display_name": "Python 3",
   "language": "python",
   "name": "python3"
  },
  "language_info": {
   "codemirror_mode": {
    "name": "ipython",
    "version": 3
   },
   "file_extension": ".py",
   "mimetype": "text/x-python",
   "name": "python",
   "nbconvert_exporter": "python",
   "pygments_lexer": "ipython3",
   "version": "3.7.3"
  }
 },
 "nbformat": 4,
 "nbformat_minor": 2
}
