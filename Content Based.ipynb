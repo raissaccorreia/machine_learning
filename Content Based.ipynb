{
 "cells": [
  {
   "cell_type": "markdown",
   "metadata": {},
   "source": [
    "# Recommendation using content based method"
   ]
  },
  {
   "cell_type": "markdown",
   "metadata": {},
   "source": [
    "## Loading Dataset"
   ]
  },
  {
   "cell_type": "code",
   "execution_count": 19,
   "metadata": {},
   "outputs": [],
   "source": [
    "# Import libraries\n",
    "%matplotlib inline\n",
    "import math\n",
    "import numpy as np\n",
    "import pandas as pd\n",
    "import matplotlib.pyplot as plt\n",
    "\n",
    "# Reading ratings file\n",
    "ratings = pd.read_csv('ml-latest-small/ratings.csv', sep=',', encoding='latin-1', \n",
    "                      usecols=['userId', 'movieId','rating', 'timestamp'])\n",
    "max_userid = ratings['userId'].drop_duplicates().max()\n",
    "max_movieid = ratings['movieId'].drop_duplicates().max()\n",
    "\n",
    "# Reading ratings file\n",
    "users = pd.read_csv('ml-latest-small/tags.csv', sep=',', encoding='latin-1', \n",
    "                    usecols=['userId', 'movieId', 'tag', 'timestamp'])\n",
    "\n",
    "# Reading ratings file\n",
    "movies = pd.read_csv('ml-latest-small/movies.csv', sep=',', encoding='latin-1', \n",
    "                     usecols=['movieId','title', 'genres'])"
   ]
  },
  {
   "cell_type": "code",
   "execution_count": 20,
   "metadata": {},
   "outputs": [],
   "source": [
    "from sklearn.feature_extraction.text import TfidfVectorizer\n",
    "tf = TfidfVectorizer(analyzer='word',ngram_range=(1, 2),min_df=0, stop_words='english')\n",
    "tfidf_matrix = tf.fit_transform(movies['genres'])"
   ]
  },
  {
   "cell_type": "code",
   "execution_count": 21,
   "metadata": {},
   "outputs": [],
   "source": [
    "from sklearn.metrics.pairwise import linear_kernel\n",
    "cosine_sim = linear_kernel(tfidf_matrix, tfidf_matrix)"
   ]
  },
  {
   "cell_type": "code",
   "execution_count": 22,
   "metadata": {},
   "outputs": [],
   "source": [
    "titles = movies['title']\n",
    "indices = pd.Series(movies.index, index=movies['title'])\n",
    "\n",
    "# Function that get movie recommendations based on the cosine similarity score of movie genres\n",
    "def genre_recommendations(title):\n",
    "    idx = indices[title]\n",
    "    sim_scores = list(enumerate(cosine_sim[idx]))\n",
    "    sim_scores = sorted(sim_scores, key=lambda x: x[1], reverse=True)\n",
    "    sim_scores = sim_scores[1:21]\n",
    "    movie_indices = [i[0] for i in sim_scores]\n",
    "    return titles.iloc[movie_indices]"
   ]
  },
  {
   "cell_type": "code",
   "execution_count": 23,
   "metadata": {},
   "outputs": [
    {
     "data": {
      "text/plain": [
       "24                            Leaving Las Vegas (1995)\n",
       "27                                   Persuasion (1995)\n",
       "42                How to Make an American Quilt (1995)\n",
       "45                        When Night Is Falling (1995)\n",
       "66                                 Bed of Roses (1996)\n",
       "75     Once Upon a Time... When We Were Colored (1995)\n",
       "76                           Angels and Insects (1995)\n",
       "93               Bridges of Madison County, The (1995)\n",
       "115                       Up Close and Personal (1996)\n",
       "151                                    Mad Love (1995)\n",
       "162                         Scarlet Letter, The (1995)\n",
       "170                               Total Eclipse (1995)\n",
       "175                       Walk in the Clouds, A (1995)\n",
       "183                              Before Sunrise (1995)\n",
       "189                           Circle of Friends (1995)\n",
       "213                            Immortal Beloved (1994)\n",
       "232                                 Love Affair (1994)\n",
       "261                  Picture Bride (Bijo photo) (1994)\n",
       "262             Queen Margot (Reine Margot, La) (1994)\n",
       "338                    When a Man Loves a Woman (1994)\n",
       "Name: title, dtype: object"
      ]
     },
     "execution_count": 23,
     "metadata": {},
     "output_type": "execute_result"
    }
   ],
   "source": [
    "genre_recommendations('Good Will Hunting (1997)').head(20)"
   ]
  },
  {
   "cell_type": "code",
   "execution_count": 24,
   "metadata": {},
   "outputs": [
    {
     "data": {
      "text/plain": [
       "1706                                          Antz (1998)\n",
       "2355                                   Toy Story 2 (1999)\n",
       "2809       Adventures of Rocky and Bullwinkle, The (2000)\n",
       "3000                     Emperor's New Groove, The (2000)\n",
       "3568                                Monsters, Inc. (2001)\n",
       "6194                                     Wild, The (2006)\n",
       "6486                               Shrek the Third (2007)\n",
       "6948                       Tale of Despereaux, The (2008)\n",
       "7760    Asterix and the Vikings (AstÃ©rix et les Vikin...\n",
       "8219                                         Turbo (2013)\n",
       "8927                             The Good Dinosaur (2015)\n",
       "9430                                         Moana (2016)\n",
       "5490    Twelve Tasks of Asterix, The (Les douze travau...\n",
       "6448           TMNT (Teenage Mutant Ninja Turtles) (2007)\n",
       "8357                                The Lego Movie (2014)\n",
       "3194                                         Shrek (2001)\n",
       "7530                               Gnomeo & Juliet (2011)\n",
       "7805        Puss in Boots (Nagagutsu o haita neko) (1969)\n",
       "7184                                 Partly Cloudy (2009)\n",
       "7917                                        Presto (2008)\n",
       "Name: title, dtype: object"
      ]
     },
     "execution_count": 24,
     "metadata": {},
     "output_type": "execute_result"
    }
   ],
   "source": [
    "genre_recommendations('Toy Story (1995)').head(20)"
   ]
  },
  {
   "cell_type": "code",
   "execution_count": 25,
   "metadata": {},
   "outputs": [
    {
     "data": {
      "text/plain": [
       "909                           Apocalypse Now (1979)\n",
       "933                    Boot, Das (Boat, The) (1981)\n",
       "1407          All Quiet on the Western Front (1930)\n",
       "1503                     Saving Private Ryan (1998)\n",
       "1826                      Thin Red Line, The (1998)\n",
       "2216                        Dirty Dozen, The (1967)\n",
       "2310                        Longest Day, The (1962)\n",
       "2313                       Tora! Tora! Tora! (1970)\n",
       "2573                                Red Dawn (1984)\n",
       "2631                  Force 10 from Navarone (1978)\n",
       "2716                   Fighting Seabees, The (1944)\n",
       "2808                            Patriot, The (2000)\n",
       "3610                      Behind Enemy Lines (2001)\n",
       "3646                         Black Hawk Down (2001)\n",
       "3724                        We Were Soldiers (2002)\n",
       "3856                             Windtalkers (2002)\n",
       "4114                                    Zulu (1964)\n",
       "4121      Victory (a.k.a. Escape to Victory) (1981)\n",
       "4243                       Gods and Generals (2003)\n",
       "5009    Alexander Nevsky (Aleksandr Nevskiy) (1938)\n",
       "Name: title, dtype: object"
      ]
     },
     "execution_count": 25,
     "metadata": {},
     "output_type": "execute_result"
    }
   ],
   "source": [
    "genre_recommendations('Saving Private Ryan (1998)').head(20)"
   ]
  },
  {
   "cell_type": "code",
   "execution_count": null,
   "metadata": {},
   "outputs": [],
   "source": []
  }
 ],
 "metadata": {
  "kernelspec": {
   "display_name": "Python 3",
   "language": "python",
   "name": "python3"
  },
  "language_info": {
   "codemirror_mode": {
    "name": "ipython",
    "version": 3
   },
   "file_extension": ".py",
   "mimetype": "text/x-python",
   "name": "python",
   "nbconvert_exporter": "python",
   "pygments_lexer": "ipython3",
   "version": "3.7.3"
  }
 },
 "nbformat": 4,
 "nbformat_minor": 2
}
