{
 "cells": [
  {
   "cell_type": "markdown",
   "metadata": {},
   "source": [
    "# Collaborative Filtering"
   ]
  },
  {
   "cell_type": "code",
   "execution_count": 23,
   "metadata": {},
   "outputs": [],
   "source": [
    "# Import libraries\n",
    "%matplotlib inline\n",
    "import math\n",
    "import numpy as np\n",
    "import pandas as pd\n",
    "import matplotlib.pyplot as plt\n",
    "\n",
    "small_data = pd.read_csv('ml-latest-small/ratings.csv', sep=',', encoding='latin-1', nrows=2000, \n",
    "                      usecols=['userId', 'movieId','rating'])\n",
    "\n",
    "# Fill NaN values in user_id and movie_id column with 0\n",
    "small_data['userId'] = small_data['userId'].fillna(0)\n",
    "small_data['movieId'] = small_data['movieId'].fillna(0)\n",
    "\n",
    "# Replace NaN values in rating column with average of all values\n",
    "small_data['rating'] = small_data['rating'].fillna(small_data['rating'].mean())"
   ]
  },
  {
   "cell_type": "code",
   "execution_count": 24,
   "metadata": {},
   "outputs": [],
   "source": [
    "from sklearn import model_selection\n",
    "train_data, test_data = model_selection.train_test_split(small_data, test_size=0.2)\n",
    "\n",
    "train_data = train_data.reset_index()\n",
    "test_data = test_data.reset_index()"
   ]
  },
  {
   "cell_type": "code",
   "execution_count": 29,
   "metadata": {},
   "outputs": [
    {
     "name": "stdout",
     "output_type": "stream",
     "text": [
      "(1600, 4)\n",
      "(400, 4)\n"
     ]
    }
   ],
   "source": [
    "# Create two user-item matrices, one for training and another for testing\n",
    "train_data_matrix = train_data.to_numpy(dtype=np.float, copy=True)\n",
    "test_data_matrix = test_data.to_numpy(dtype=np.float,copy=True)\n",
    "\n",
    "# Check their shape\n",
    "print(train_data_matrix.shape)\n",
    "print(test_data_matrix.shape)\n"
   ]
  },
  {
   "cell_type": "code",
   "execution_count": null,
   "metadata": {},
   "outputs": [],
   "source": [
    "from sklearn.metrics.pairwise import pairwise_distances\n",
    "\n",
    "# User Similarity Matrix\n",
    "parwise_user = pairwise_distances(train_data, metric='correlation')\n",
    "user_correlation = 1 - parwise_user\n",
    "user_correlation[np.isnan(user_correlation)] = 0\n",
    "\n",
    "# Item Similarity Matrix\n",
    "item_correlation = 1 - pairwise_distances(train_data_matrix.T, metric='correlation')\n",
    "item_correlation[np.isnan(item_correlation)] = 0\n",
    "\n",
    "# print(train_data_matrix)\n",
    "# print(\"----\")\n",
    "# print(train_data)\n",
    "print(user_correlation)\n",
    "print(pairwise_distances(train_data, metric='correlation'))\n",
    "\n",
    "print(train_data_matrix)\n",
    "train_data.head()"
   ]
  },
  {
   "cell_type": "markdown",
   "metadata": {},
   "source": [
    "###### "
   ]
  },
  {
   "cell_type": "code",
   "execution_count": 26,
   "metadata": {},
   "outputs": [],
   "source": [
    "# Function to predict ratings\n",
    "def predict(ratings, similarity, type='user'):\n",
    "    \n",
    "    if type == 'user':\n",
    "        print(ratings)\n",
    "        mean_user_rating = ratings.mean(axis=1)\n",
    "        \n",
    "        print(\"mean user rating:\",mean_user_rating)\n",
    "        \n",
    "        # Use np.newaxis so that mean_user_rating has same format as ratings\n",
    "        ratings_diff = (ratings - mean_user_rating[:, np.newaxis])\n",
    "        pred = mean_user_rating[:, np.newaxis] + similarity.dot(ratings_diff) / np.array([np.abs(similarity).sum(axis=1)]).T\n",
    "    elif type == 'item':\n",
    "        pred = ratings.dot(similarity) / np.array([np.abs(similarity).sum(axis=1)])\n",
    "    return pred"
   ]
  },
  {
   "cell_type": "code",
   "execution_count": 27,
   "metadata": {},
   "outputs": [
    {
     "name": "stdout",
     "output_type": "stream",
     "text": [
      "[[1.1490e+03 1.0000e+01 6.2660e+03 3.0000e+00]\n",
      " [1.4380e+03 1.5000e+01 1.7200e+02 1.0000e+00]\n",
      " [1.3040e+03 1.1000e+01 1.5840e+03 5.0000e+00]\n",
      " ...\n",
      " [1.2160e+03 1.0000e+01 7.9091e+04 5.0000e+00]\n",
      " [1.3000e+01 1.0000e+00 2.3100e+02 5.0000e+00]\n",
      " [1.1730e+03 1.0000e+01 3.1685e+04 4.5000e+00]]\n",
      "mean user rating: [ 1857.      406.5     726.    ... 20080.5      62.5    8218.125]\n",
      "[[ 9.26770591e+02  8.52210757e+02  4.85643739e+03 -5.11689103e+02]\n",
      " [ 6.86879029e+02  6.92231249e+02  2.75700805e+02 -5.16426609e+01]\n",
      " [ 7.09903866e+02  6.96387464e+02  1.32988533e+03 -1.53245411e+02]\n",
      " ...\n",
      " [ 5.46008578e+03  4.44923905e+03  5.99573122e+04 -6.12515075e+03]\n",
      " [ 2.07194271e+01  1.78911498e+01  1.75814654e+02 -1.37119572e+01]\n",
      " [ 2.50936348e+03  2.10801235e+03  2.40889785e+04 -2.47032678e+03]]\n",
      "User-based CF RMSE: 10787.615685251136\n",
      "Item-based CF RMSE: 3818.002688110833\n"
     ]
    }
   ],
   "source": [
    "from sklearn.metrics import mean_squared_error\n",
    "from math import sqrt\n",
    "\n",
    "# Function to calculate RMSE\n",
    "def rmse(pred, actual):\n",
    "    # Ignore nonzero terms.\n",
    "    pred = pred[actual.nonzero()].flatten()\n",
    "    actual = actual[actual.nonzero()].flatten()\n",
    "    return sqrt(mean_squared_error(pred, actual))\n",
    "\n",
    "# Predict ratings on the training data with both similarity score\n",
    "user_prediction = predict(train_data_matrix, user_correlation, type='user')\n",
    "item_prediction = predict(train_data_matrix, item_correlation, type='item')\n",
    "\n",
    "print(item_prediction)\n",
    "\n",
    "# RMSE on the train data\n",
    "print('User-based CF RMSE: ' + str(rmse(user_prediction, train_data_matrix)))\n",
    "print('Item-based CF RMSE: ' + str(rmse(item_prediction, train_data_matrix)))"
   ]
  },
  {
   "cell_type": "code",
   "execution_count": 28,
   "metadata": {},
   "outputs": [
    {
     "name": "stdout",
     "output_type": "stream",
     "text": [
      "User-based CF RMSE - Test Data: 14563.623577758292\n",
      "Item-based CF RMSE - Test Data: 16885.761356949275\n"
     ]
    }
   ],
   "source": [
    "# Usando test_data\n",
    "print('User-based CF RMSE - Test Data: ' + str(rmse(user_prediction, test_data_matrix)))\n",
    "print('Item-based CF RMSE - Test Data: ' + str(rmse(item_prediction, test_data_matrix)))"
   ]
  }
 ],
 "metadata": {
  "kernelspec": {
   "display_name": "Python 3",
   "language": "python",
   "name": "python3"
  },
  "language_info": {
   "codemirror_mode": {
    "name": "ipython",
    "version": 3
   },
   "file_extension": ".py",
   "mimetype": "text/x-python",
   "name": "python",
   "nbconvert_exporter": "python",
   "pygments_lexer": "ipython3",
   "version": "3.7.3"
  }
 },
 "nbformat": 4,
 "nbformat_minor": 2
}
