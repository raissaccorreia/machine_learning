{
 "cells": [
  {
   "cell_type": "markdown",
   "metadata": {},
   "source": [
    "# Collaborative Filtering"
   ]
  },
  {
   "cell_type": "code",
   "execution_count": 1,
   "metadata": {},
   "outputs": [],
   "source": [
    "# Import libraries\n",
    "%matplotlib inline\n",
    "import math\n",
    "import numpy as np\n",
    "import pandas as pd\n",
    "import matplotlib.pyplot as plt\n",
    "\n",
    "small_data = pd.read_csv('ml-latest-small/ratings.csv', sep=',', encoding='latin-1', nrows=2000, \n",
    "                      usecols=['userId', 'movieId','rating', 'timestamp'])\n"
   ]
  },
  {
   "cell_type": "code",
   "execution_count": 2,
   "metadata": {},
   "outputs": [],
   "source": [
    "from sklearn import model_selection\n",
    "train_data, test_data = model_selection.train_test_split(small_data, test_size=0.2)\n",
    "\n",
    "train_data = train_data.reset_index()\n",
    "test_data = test_data.reset_index()"
   ]
  },
  {
   "cell_type": "code",
   "execution_count": 15,
   "metadata": {},
   "outputs": [
    {
     "name": "stdout",
     "output_type": "stream",
     "text": [
      "[[1. 1. 1. ... 1. 1. 1.]\n",
      " [1. 1. 1. ... 1. 1. 1.]\n",
      " [1. 1. 1. ... 1. 1. 1.]\n",
      " ...\n",
      " [1. 1. 1. ... 1. 1. 1.]\n",
      " [1. 1. 1. ... 1. 1. 1.]\n",
      " [1. 1. 1. ... 1. 1. 1.]]\n",
      "[[0.00000000e+00 1.67177383e-12 2.42707110e-09 ... 5.77460302e-12\n",
      "  1.37179157e-12 4.49951187e-12]\n",
      " [1.67177383e-12 0.00000000e+00 2.55543298e-09 ... 1.33437705e-12\n",
      "  5.96334093e-12 6.98219260e-13]\n",
      " [2.42707110e-09 2.55543298e-09 0.00000000e+00 ... 2.65998723e-09\n",
      "  2.31458241e-09 2.63752364e-09]\n",
      " ...\n",
      " [5.77460302e-12 1.33437705e-12 2.65998723e-09 ... 0.00000000e+00\n",
      "  1.22154509e-11 1.46993528e-13]\n",
      " [1.37179157e-12 5.96334093e-12 2.31458241e-09 ... 1.22154509e-11\n",
      "  0.00000000e+00 1.05643272e-11]\n",
      " [4.49951187e-12 6.98219260e-13 2.63752364e-09 ... 1.46993528e-13\n",
      "  1.05643272e-11 0.00000000e+00]]\n",
      "[[1.90000000e+02 1.00000000e+00 2.94800000e+03 5.00000000e+00\n",
      "  9.64982191e+08]\n",
      " [3.77000000e+02 4.00000000e+00 1.19700000e+03 5.00000000e+00\n",
      "  9.64538763e+08]\n",
      " [1.24900000e+03 1.00000000e+01 1.09487000e+05 5.00000000e-01\n",
      "  1.45539809e+09]\n",
      " ...\n",
      " [1.77700000e+03 1.80000000e+01 3.40000000e+01 2.50000000e+00\n",
      "  1.45561753e+09]\n",
      " [5.12000000e+02 4.00000000e+00 4.88100000e+03 3.00000000e+00\n",
      "  1.00756944e+09]\n",
      " [6.18000000e+02 6.00000000e+00 1.50000000e+02 4.00000000e+00\n",
      "  8.45553110e+08]]\n"
     ]
    }
   ],
   "source": [
    "# Create two user-item matrices, one for training and another for testing\n",
    "train_data_matrix = train_data.to_numpy(dtype=np.float, copy=True)\n",
    "test_data_matrix = test_data.to_numpy(dtype=np.float,copy=True)\n",
    "\n",
    "from sklearn.metrics.pairwise import pairwise_distances\n",
    "\n",
    "# User Similarity Matrix\n",
    "parwise_user = pairwise_distances(train_data, metric='correlation')\n",
    "user_correlation = 1 - parwise_user\n",
    "user_correlation[np.isnan(user_correlation)] = 0\n",
    "\n",
    "# Item Similarity Matrix\n",
    "item_correlation = 1 - pairwise_distances(train_data_matrix.T, metric='correlation')\n",
    "item_correlation[np.isnan(item_correlation)] = 0\n",
    "\n",
    "# print(train_data_matrix)\n",
    "# print(\"----\")\n",
    "# print(train_data)\n",
    "print(user_correlation)\n",
    "print(pairwise_distances(train_data, metric='correlation'))\n",
    "\n",
    "train_data.head()\n",
    "\n",
    "print(train_data_matrix)"
   ]
  },
  {
   "cell_type": "code",
   "execution_count": 11,
   "metadata": {},
   "outputs": [],
   "source": [
    "# Function to predict ratings\n",
    "def predict(ratings, similarity, type='user'):\n",
    "    if type == 'user':\n",
    "        mean_user_rating = ratings.mean(axis=1)\n",
    "        \n",
    "        print(\"mean user rating:\",mean_user_rating)\n",
    "        \n",
    "        # Use np.newaxis so that mean_user_rating has same format as ratings\n",
    "        ratings_diff = (ratings - mean_user_rating[:, np.newaxis])\n",
    "        pred = mean_user_rating[:, np.newaxis] + similarity.dot(ratings_diff) / np.array([np.abs(similarity).sum(axis=1)]).T\n",
    "    elif type == 'item':\n",
    "        pred = ratings.dot(similarity) / np.array([np.abs(similarity).sum(axis=1)])\n",
    "    return pred"
   ]
  },
  {
   "cell_type": "code",
   "execution_count": 12,
   "metadata": {},
   "outputs": [
    {
     "name": "stdout",
     "output_type": "stream",
     "text": [
      "mean user rating: [1.92997067e+08 1.92908069e+08 2.91101768e+08 ... 2.91123873e+08\n",
      " 2.01514969e+08 1.69110778e+08]\n",
      "[[ 2.26381932e+08  2.36519376e+08  2.30970217e+08 -1.77002359e+07\n",
      "   3.48221730e+08]\n",
      " [ 2.26277886e+08  2.36410691e+08  2.30863085e+08 -1.76919942e+07\n",
      "   3.48061499e+08]\n",
      " [ 3.41437559e+08  3.56725812e+08  3.48412959e+08 -2.67024487e+07\n",
      "   5.25208246e+08]\n",
      " ...\n",
      " [ 3.41483834e+08  3.56775603e+08  3.48402233e+08 -2.66994921e+07\n",
      "   5.25271212e+08]\n",
      " [ 2.36372976e+08  2.46957792e+08  2.41164620e+08 -1.84815181e+07\n",
      "   3.63590034e+08]\n",
      " [ 1.98364270e+08  2.07247100e+08  2.02383282e+08 -1.55094556e+07\n",
      "   3.05124513e+08]]\n",
      "User-based CF RMSE: 99863221.1024596\n",
      "Item-based CF RMSE: 393072439.25011086\n"
     ]
    }
   ],
   "source": [
    "from sklearn.metrics import mean_squared_error\n",
    "from math import sqrt\n",
    "\n",
    "# Function to calculate RMSE\n",
    "def rmse(pred, actual):\n",
    "    # Ignore nonzero terms.\n",
    "    pred = pred[actual.nonzero()].flatten()\n",
    "    actual = actual[actual.nonzero()].flatten()\n",
    "    return sqrt(mean_squared_error(pred, actual))\n",
    "\n",
    "# Predict ratings on the training data with both similarity score\n",
    "user_prediction = predict(train_data_matrix, user_correlation, type='user')\n",
    "item_prediction = predict(train_data_matrix, item_correlation, type='item')\n",
    "\n",
    "print(item_prediction)\n",
    "\n",
    "# RMSE on the train data\n",
    "print('User-based CF RMSE: ' + str(rmse(user_prediction, train_data_matrix)))\n",
    "print('Item-based CF RMSE: ' + str(rmse(item_prediction, train_data_matrix)))"
   ]
  },
  {
   "cell_type": "code",
   "execution_count": 6,
   "metadata": {},
   "outputs": [
    {
     "name": "stdout",
     "output_type": "stream",
     "text": [
      "User-based CF RMSE - Test Data: 121647191.42959222\n",
      "Item-based CF RMSE - Test Data: 414701244.5631586\n"
     ]
    }
   ],
   "source": [
    "# Usando test_data\n",
    "print('User-based CF RMSE - Test Data: ' + str(rmse(user_prediction, test_data_matrix)))\n",
    "print('Item-based CF RMSE - Test Data: ' + str(rmse(item_prediction, test_data_matrix)))"
   ]
  }
 ],
 "metadata": {
  "kernelspec": {
   "display_name": "Python 3",
   "language": "python",
   "name": "python3"
  },
  "language_info": {
   "codemirror_mode": {
    "name": "ipython",
    "version": 3
   },
   "file_extension": ".py",
   "mimetype": "text/x-python",
   "name": "python",
   "nbconvert_exporter": "python",
   "pygments_lexer": "ipython3",
   "version": "3.7.3"
  }
 },
 "nbformat": 4,
 "nbformat_minor": 2
}
