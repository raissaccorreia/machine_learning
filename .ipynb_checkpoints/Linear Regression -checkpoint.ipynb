{
 "cells": [
  {
   "cell_type": "markdown",
   "metadata": {},
   "source": [
    "link: https://www.ritchieng.com/machine-learning-polynomial-regression/"
   ]
  },
  {
   "cell_type": "code",
   "execution_count": 64,
   "metadata": {},
   "outputs": [],
   "source": [
    "from sklearn.preprocessing import PolynomialFeatures\n",
    "from sklearn.linear_model import LinearRegression\n",
    "%matplotlib inline\n",
    "import math\n",
    "import numpy as np\n",
    "import pandas as pd\n",
    "import matplotlib.pyplot as plt"
   ]
  },
  {
   "cell_type": "code",
   "execution_count": 65,
   "metadata": {},
   "outputs": [],
   "source": [
    "movies = pd.read_csv('../ml-20m/movies.csv', sep=',', encoding='latin-1', nrows=3000, \n",
    "                      usecols=['movieId', 'genres'])\n",
    "listAux = movies['genres'].str.split('|')\n",
    "\n",
    "ratings = pd.read_csv('../ml-20m/ratings.csv', sep=',', encoding='latin-1', \n",
    "                      usecols=['movieId', 'rating', 'userId'])"
   ]
  },
  {
   "cell_type": "code",
   "execution_count": 66,
   "metadata": {},
   "outputs": [
    {
     "data": {
      "text/plain": [
       "(184, 20)"
      ]
     },
     "execution_count": 66,
     "metadata": {},
     "output_type": "execute_result"
    }
   ],
   "source": [
    "ratings = ratings[ratings.userId == (3)]\n",
    "\n",
    "lista = set()\n",
    "for genre in listAux:\n",
    "    for i in genre:\n",
    "        lista.add(i)\n",
    "\n",
    "for i in lista:\n",
    "    movies[i] = movies['genres'].str.contains(i).astype(int)\n",
    "\n",
    "movies = movies.drop(['genres'], axis=1)\n",
    "data = pd.merge(movies,ratings)\n",
    "\n",
    "data = data.drop(['movieId', 'userId'], axis=1)\n",
    "data.shape"
   ]
  },
  {
   "cell_type": "code",
   "execution_count": 67,
   "metadata": {},
   "outputs": [
    {
     "name": "stdout",
     "output_type": "stream",
     "text": [
      "train: (128, 19) test (56, 19)\n"
     ]
    }
   ],
   "source": [
    "from sklearn import model_selection\n",
    "\n",
    "train_data, test_data = model_selection.train_test_split(data, test_size=0.3, shuffle=False)\n",
    "\n",
    "result_data = train_data['rating']\n",
    "result_test = test_data['rating']\n",
    "train_data = train_data.drop(['rating'], axis=1)\n",
    "test_data = test_data.drop(['rating'], axis=1)\n",
    "print('train:', train_data.shape, 'test', test_data.shape)"
   ]
  },
  {
   "cell_type": "code",
   "execution_count": 68,
   "metadata": {},
   "outputs": [
    {
     "name": "stdout",
     "output_type": "stream",
     "text": [
      "56.25\n"
     ]
    },
    {
     "name": "stderr",
     "output_type": "stream",
     "text": [
      "/anaconda3/lib/python3.7/site-packages/sklearn/linear_model/logistic.py:433: FutureWarning: Default solver will be changed to 'lbfgs' in 0.22. Specify a solver to silence this warning.\n",
      "  FutureWarning)\n",
      "/anaconda3/lib/python3.7/site-packages/sklearn/linear_model/logistic.py:460: FutureWarning: Default multi_class will be changed to 'auto' in 0.22. Specify the multi_class option to silence this warning.\n",
      "  \"this warning.\", FutureWarning)\n"
     ]
    }
   ],
   "source": [
    "from sklearn.linear_model import LogisticRegression\n",
    "\n",
    "logreg = LogisticRegression()\n",
    "logreg.fit(train_data, result_data)\n",
    "\n",
    "accuracy = round(logreg.score(train_data, result_data) * 100, 2)\n",
    "\n",
    "print(accuracy)"
   ]
  },
  {
   "cell_type": "code",
   "execution_count": 69,
   "metadata": {
    "scrolled": true
   },
   "outputs": [
    {
     "name": "stdout",
     "output_type": "stream",
     "text": [
      "[4. 5. 5. 5. 5. 3. 4. 4. 4. 5. 5. 5. 5. 5. 5. 5. 5. 5. 5. 5. 5. 3. 5. 5.\n",
      " 5. 5. 5. 3. 5. 4. 5. 5. 5. 5. 4. 5. 5. 5. 4. 5. 4. 5. 4. 4. 5. 5. 5. 5.\n",
      " 5. 4. 5. 5. 3. 5. 5. 5.]\n",
      "128    4.0\n",
      "129    4.0\n",
      "130    4.0\n",
      "131    4.0\n",
      "132    5.0\n",
      "133    4.0\n",
      "134    4.0\n",
      "135    5.0\n",
      "136    4.0\n",
      "137    4.0\n",
      "138    4.0\n",
      "139    5.0\n",
      "140    4.0\n",
      "141    3.0\n",
      "142    4.0\n",
      "143    3.0\n",
      "144    1.0\n",
      "145    4.0\n",
      "146    3.0\n",
      "147    5.0\n",
      "148    3.0\n",
      "149    4.0\n",
      "150    4.0\n",
      "151    5.0\n",
      "152    4.0\n",
      "153    3.0\n",
      "154    1.0\n",
      "155    3.0\n",
      "156    3.0\n",
      "157    4.0\n",
      "158    1.0\n",
      "159    4.0\n",
      "160    3.0\n",
      "161    5.0\n",
      "162    4.0\n",
      "163    4.0\n",
      "164    5.0\n",
      "165    5.0\n",
      "166    4.0\n",
      "167    4.0\n",
      "168    3.0\n",
      "169    5.0\n",
      "170    3.0\n",
      "171    3.0\n",
      "172    4.0\n",
      "173    5.0\n",
      "174    4.0\n",
      "175    4.0\n",
      "176    4.0\n",
      "177    5.0\n",
      "178    5.0\n",
      "179    2.0\n",
      "180    5.0\n",
      "181    5.0\n",
      "182    4.0\n",
      "183    4.0\n",
      "Name: rating, dtype: float64\n"
     ]
    }
   ],
   "source": [
    "logreg_preds = logreg.predict(test_data)\n",
    "print(logreg_preds)\n",
    "print(result_test)"
   ]
  },
  {
   "cell_type": "code",
   "execution_count": 74,
   "metadata": {},
   "outputs": [
    {
     "name": "stdout",
     "output_type": "stream",
     "text": [
      "(nota, predição)\n",
      "(4.0, 4.0)\n",
      "(4.0, 5.0)\n",
      "(4.0, 5.0)\n",
      "(4.0, 5.0)\n",
      "(5.0, 5.0)\n",
      "(4.0, 3.0)\n",
      "(4.0, 4.0)\n",
      "(5.0, 4.0)\n",
      "(4.0, 4.0)\n",
      "(4.0, 5.0)\n",
      "(4.0, 5.0)\n",
      "(5.0, 5.0)\n",
      "(4.0, 5.0)\n",
      "(3.0, 5.0)\n",
      "(4.0, 5.0)\n",
      "(3.0, 5.0)\n",
      "(1.0, 5.0)\n",
      "(4.0, 5.0)\n",
      "(3.0, 5.0)\n",
      "(5.0, 5.0)\n",
      "(3.0, 5.0)\n",
      "(4.0, 3.0)\n",
      "(4.0, 5.0)\n",
      "(5.0, 5.0)\n",
      "(4.0, 5.0)\n",
      "(3.0, 5.0)\n",
      "(1.0, 5.0)\n",
      "(3.0, 3.0)\n",
      "(3.0, 5.0)\n",
      "(4.0, 4.0)\n",
      "(1.0, 5.0)\n",
      "(4.0, 5.0)\n",
      "(3.0, 5.0)\n",
      "(5.0, 5.0)\n",
      "(4.0, 4.0)\n",
      "(4.0, 5.0)\n",
      "(5.0, 5.0)\n",
      "(5.0, 5.0)\n",
      "(4.0, 4.0)\n",
      "(4.0, 5.0)\n",
      "(3.0, 4.0)\n",
      "(5.0, 5.0)\n",
      "(3.0, 4.0)\n",
      "(3.0, 4.0)\n",
      "(4.0, 5.0)\n",
      "(5.0, 5.0)\n",
      "(4.0, 5.0)\n",
      "(4.0, 5.0)\n",
      "(4.0, 5.0)\n",
      "(5.0, 4.0)\n",
      "(5.0, 5.0)\n",
      "(2.0, 5.0)\n",
      "(5.0, 3.0)\n",
      "(5.0, 5.0)\n",
      "(4.0, 5.0)\n",
      "(4.0, 5.0)\n",
      "Resultado:\n",
      "total: 56\n",
      "acertos: 18\n",
      "acuracia: 0.32142857142857145%\n",
      "\n",
      "\n",
      "Resultado considerando 4.0  e 5.0 como corretos:\n",
      "total: 56\n",
      "acertos: 38\n",
      "acuracia: 0.6785714285714286%\n"
     ]
    }
   ],
   "source": [
    "lista = list(zip(result_test, logreg_preds))\n",
    "lista\n",
    "\n",
    "acertos = 0\n",
    "total = 0\n",
    "\n",
    "print(\"(nota, predição)\")\n",
    "for linha in lista:\n",
    "    print(linha)\n",
    "    if linha[0] == linha[1]:\n",
    "        acertos += 1\n",
    "    total += 1\n",
    "    \n",
    "acuracia = acertos / total\n",
    "print(\"\\nResultado:\")\n",
    "print(\"total: \" + str(total))\n",
    "print(\"acertos: \" + str(acertos))\n",
    "print(\"acuracia: \" + str(acuracia) + \"%\")\n",
    "\n",
    "\n",
    "acertos = 0\n",
    "total = 0\n",
    "\n",
    "for linha in lista:\n",
    "    if linha[0] > 3.0 and linha[1] > 3.0:\n",
    "        acertos += 1\n",
    "    total += 1\n",
    "    \n",
    "acuracia = acertos / total\n",
    "print(\"\\n\\nResultado considerando 4.0  e 5.0 como corretos:\")\n",
    "print(\"total: \" + str(total))\n",
    "print(\"acertos: \" + str(acertos))\n",
    "print(\"acuracia: \" + str(acuracia) + \"%\")"
   ]
  },
  {
   "cell_type": "code",
   "execution_count": null,
   "metadata": {},
   "outputs": [],
   "source": []
  },
  {
   "cell_type": "code",
   "execution_count": null,
   "metadata": {},
   "outputs": [],
   "source": []
  }
 ],
 "metadata": {
  "kernelspec": {
   "display_name": "Python 3",
   "language": "python",
   "name": "python3"
  },
  "language_info": {
   "codemirror_mode": {
    "name": "ipython",
    "version": 3
   },
   "file_extension": ".py",
   "mimetype": "text/x-python",
   "name": "python",
   "nbconvert_exporter": "python",
   "pygments_lexer": "ipython3",
   "version": "3.7.3"
  }
 },
 "nbformat": 4,
 "nbformat_minor": 2
}
