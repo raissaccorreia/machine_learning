{
 "cells": [
  {
   "cell_type": "markdown",
   "metadata": {},
   "source": [
    "link: https://www.ritchieng.com/machine-learning-polynomial-regression/"
   ]
  },
  {
   "cell_type": "code",
   "execution_count": 94,
   "metadata": {},
   "outputs": [],
   "source": [
    "from sklearn.preprocessing import PolynomialFeatures\n",
    "from sklearn.linear_model import LinearRegression\n",
    "%matplotlib inline\n",
    "import math\n",
    "import numpy as np\n",
    "import pandas as pd\n",
    "import matplotlib.pyplot as plt"
   ]
  },
  {
   "cell_type": "code",
   "execution_count": 111,
   "metadata": {},
   "outputs": [],
   "source": [
    "movies = pd.read_csv('../ml-20m/movies.csv', sep=',', encoding='latin-1', nrows=1000, \n",
    "                      usecols=['movieId', 'genres'])\n",
    "listAux = movies['genres'].str.split('|')\n",
    "\n",
    "ratings = pd.read_csv('../ml-20m/ratings.csv', sep=',', encoding='latin-1', \n",
    "                      usecols=['movieId', 'rating', 'userId'])"
   ]
  },
  {
   "cell_type": "code",
   "execution_count": 112,
   "metadata": {},
   "outputs": [
    {
     "name": "stdout",
     "output_type": "stream",
     "text": [
      "{'Comedy', 'Crime', 'IMAX', 'Film-Noir', 'Musical', 'Sci-Fi', 'Animation', 'Documentary', 'Romance', 'Horror', 'Thriller', 'Drama', 'Western', 'Action', 'Fantasy', 'Children', 'Mystery', 'War', 'Adventure'}\n"
     ]
    },
    {
     "data": {
      "text/plain": [
       "(34, 20)"
      ]
     },
     "execution_count": 112,
     "metadata": {},
     "output_type": "execute_result"
    }
   ],
   "source": [
    "ratings = ratings[ratings.userId == (3)]\n",
    "\n",
    "lista = set()\n",
    "for genre in listAux:\n",
    "    for i in genre:\n",
    "        lista.add(i)\n",
    "\n",
    "for i in lista:\n",
    "    movies[i] = movies['genres'].str.contains(i).astype(int)\n",
    "\n",
    "movies = movies.drop(['genres'], axis=1)\n",
    "data = pd.merge(movies,ratings)\n",
    "\n",
    "data = data.drop(['movieId', 'userId'], axis=1)\n",
    "data.shape"
   ]
  },
  {
   "cell_type": "code",
   "execution_count": 132,
   "metadata": {},
   "outputs": [
    {
     "name": "stdout",
     "output_type": "stream",
     "text": [
      "train: (23, 19) test (11, 19)\n"
     ]
    }
   ],
   "source": [
    "from sklearn import model_selection\n",
    "\n",
    "train_data, test_data = model_selection.train_test_split(data, test_size=0.3, shuffle=False)\n",
    "\n",
    "result_data = train_data['rating']\n",
    "result_test = test_data['rating']\n",
    "train_data = train_data.drop(['rating'], axis=1)\n",
    "test_data = test_data.drop(['rating'], axis=1)\n",
    "print('train:', train_data.shape, 'test', test_data.shape)"
   ]
  },
  {
   "cell_type": "code",
   "execution_count": 133,
   "metadata": {},
   "outputs": [
    {
     "name": "stdout",
     "output_type": "stream",
     "text": [
      "73.91\n"
     ]
    },
    {
     "name": "stderr",
     "output_type": "stream",
     "text": [
      "/home/matheus.nunes/Softwares/anaconda3/lib/python3.7/site-packages/sklearn/linear_model/logistic.py:433: FutureWarning: Default solver will be changed to 'lbfgs' in 0.22. Specify a solver to silence this warning.\n",
      "  FutureWarning)\n",
      "/home/matheus.nunes/Softwares/anaconda3/lib/python3.7/site-packages/sklearn/linear_model/logistic.py:460: FutureWarning: Default multi_class will be changed to 'auto' in 0.22. Specify the multi_class option to silence this warning.\n",
      "  \"this warning.\", FutureWarning)\n"
     ]
    }
   ],
   "source": [
    "from sklearn.linear_model import LogisticRegression\n",
    "\n",
    "logreg = LogisticRegression()\n",
    "logreg.fit(train_data, result_data)\n",
    "\n",
    "accuracy = round(logreg.score(train_data, result_data) * 100, 2)\n",
    "\n",
    "print(accuracy)"
   ]
  },
  {
   "cell_type": "code",
   "execution_count": 137,
   "metadata": {},
   "outputs": [
    {
     "name": "stdout",
     "output_type": "stream",
     "text": [
      "[5. 4. 5. 3. 5. 5. 3. 5. 5. 3. 5.]\n",
      "23    4.0\n",
      "24    3.0\n",
      "25    3.0\n",
      "26    4.0\n",
      "27    5.0\n",
      "28    5.0\n",
      "29    3.0\n",
      "30    4.0\n",
      "31    5.0\n",
      "32    5.0\n",
      "33    3.0\n",
      "Name: rating, dtype: float64\n"
     ]
    }
   ],
   "source": [
    "logreg_preds = logreg.predict(test_data)\n",
    "print(logreg_preds)\n",
    "print(result_test)"
   ]
  },
  {
   "cell_type": "code",
   "execution_count": null,
   "metadata": {},
   "outputs": [],
   "source": [
    "lista = list(zip(y, logreg_preds_train))\n",
    "lista\n",
    "\n",
    "acertos = 0\n",
    "total = 0\n",
    "for linha in lista:\n",
    "    if linha[0] == linha[1]:\n",
    "        acertos += 1\n",
    "    total += 1\n",
    "    \n",
    "acuracia = acertos / total\n",
    "print(\"total: \" + str(total))\n",
    "print(\"acertos: \" + str(acertos))\n",
    "print(\"acuracia: \" + str(acuracia) + \"%\")"
   ]
  }
 ],
 "metadata": {
  "kernelspec": {
   "display_name": "Python 3",
   "language": "python",
   "name": "python3"
  },
  "language_info": {
   "codemirror_mode": {
    "name": "ipython",
    "version": 3
   },
   "file_extension": ".py",
   "mimetype": "text/x-python",
   "name": "python",
   "nbconvert_exporter": "python",
   "pygments_lexer": "ipython3",
   "version": "3.7.1"
  }
 },
 "nbformat": 4,
 "nbformat_minor": 2
}
